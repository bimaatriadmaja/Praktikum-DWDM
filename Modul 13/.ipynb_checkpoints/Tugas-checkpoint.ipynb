{
 "cells": [
  {
   "cell_type": "code",
   "execution_count": 1,
   "id": "2f39ffa8",
   "metadata": {},
   "outputs": [],
   "source": [
    "import pandas as pd\n",
    "import numpy as np\n",
    "from sklearn.decomposition import PCA"
   ]
  },
  {
   "cell_type": "code",
   "execution_count": 2,
   "id": "8e531294",
   "metadata": {},
   "outputs": [
    {
     "name": "stdout",
     "output_type": "stream",
     "text": [
      "        id  id_android      speed      time  distance  rating  rating_bus  \\\n",
      "0        1           0  19.210586  0.138049     2.652       3           0   \n",
      "1        2           0  30.848229  0.171485     5.290       3           0   \n",
      "2        3           1  13.560101  0.067699     0.918       3           0   \n",
      "3        4           1  19.766679  0.389544     7.700       3           0   \n",
      "4        8           0  25.807401  0.154801     3.995       2           0   \n",
      "..     ...         ...        ...       ...       ...     ...         ...   \n",
      "158  38081          24  30.051732  0.218756     6.574       2           0   \n",
      "159  38082          24  30.173788  0.255387     7.706       3           0   \n",
      "160  38084          25   1.153772  0.013001     0.015       1           3   \n",
      "161  38090          26   0.843223  0.007116     0.006       3           1   \n",
      "162  38092          27   1.372998  0.016752     0.023       3           1   \n",
      "\n",
      "     rating_weather  car_or_bus                        linha  \n",
      "0                 0           1                          NaN  \n",
      "1                 0           1                          NaN  \n",
      "2                 0           2                          NaN  \n",
      "3                 0           2                          NaN  \n",
      "4                 0           1                          NaN  \n",
      "..              ...         ...                          ...  \n",
      "158               0           1                        carro  \n",
      "159               0           1                        carro  \n",
      "160               2           2  721 - CASTELO BRANCO SUISSA  \n",
      "161               2           2    002 - FERNANDO COLLOR DIA  \n",
      "162               2           2     060 - PADRE PEDRO CAMPUS  \n",
      "\n",
      "[163 rows x 10 columns]\n"
     ]
    }
   ],
   "source": [
    "data = pd.read_csv(\"/Users/PC/Downloads/Modul 13/go_track_tracks.csv\")\n",
    "print(data)"
   ]
  },
  {
   "cell_type": "code",
   "execution_count": 3,
   "id": "2fb199e1",
   "metadata": {},
   "outputs": [
    {
     "name": "stdout",
     "output_type": "stream",
     "text": [
      "         speed      time  distance  rating  rating_bus  rating_weather  \\\n",
      "0    19.210586  0.138049     2.652       3           0               0   \n",
      "1    30.848229  0.171485     5.290       3           0               0   \n",
      "2    13.560101  0.067699     0.918       3           0               0   \n",
      "3    19.766679  0.389544     7.700       3           0               0   \n",
      "4    25.807401  0.154801     3.995       2           0               0   \n",
      "..         ...       ...       ...     ...         ...             ...   \n",
      "158  30.051732  0.218756     6.574       2           0               0   \n",
      "159  30.173788  0.255387     7.706       3           0               0   \n",
      "160   1.153772  0.013001     0.015       1           3               2   \n",
      "161   0.843223  0.007116     0.006       3           1               2   \n",
      "162   1.372998  0.016752     0.023       3           1               2   \n",
      "\n",
      "     car_or_bus  \n",
      "0             1  \n",
      "1             1  \n",
      "2             2  \n",
      "3             2  \n",
      "4             1  \n",
      "..          ...  \n",
      "158           1  \n",
      "159           1  \n",
      "160           2  \n",
      "161           2  \n",
      "162           2  \n",
      "\n",
      "[163 rows x 7 columns]\n"
     ]
    }
   ],
   "source": [
    "x = data.drop(columns=['id', 'id_android', 'linha'])\n",
    "print(x)"
   ]
  },
  {
   "cell_type": "code",
   "execution_count": 4,
   "id": "4bf76064",
   "metadata": {},
   "outputs": [
    {
     "name": "stdout",
     "output_type": "stream",
     "text": [
      "Jumlah fitur input: 7 fitur\n"
     ]
    }
   ],
   "source": [
    "num_features = x.shape[1]\n",
    "print(\"Jumlah fitur input:\", num_features, \"fitur\")"
   ]
  },
  {
   "cell_type": "code",
   "execution_count": 5,
   "id": "a63bcfd8",
   "metadata": {},
   "outputs": [
    {
     "data": {
      "text/plain": [
       "PCA(n_components=7)"
      ]
     },
     "execution_count": 5,
     "metadata": {},
     "output_type": "execute_result"
    }
   ],
   "source": [
    "pca = PCA(n_components=num_features)\n",
    "pca.fit(x)"
   ]
  },
  {
   "cell_type": "code",
   "execution_count": 6,
   "id": "aeddaee8",
   "metadata": {},
   "outputs": [
    {
     "name": "stdout",
     "output_type": "stream",
     "text": [
      "Fitur independen ke- 1 menghasilkan variance ratio sebesar 0.8850815\n",
      "Fitur independen ke- 2 menghasilkan variance ratio sebesar 0.1090902\n",
      "Fitur independen ke- 3 menghasilkan variance ratio sebesar 0.0036053\n",
      "Fitur independen ke- 4 menghasilkan variance ratio sebesar 0.0015101\n",
      "Fitur independen ke- 5 menghasilkan variance ratio sebesar 0.0003889\n",
      "Fitur independen ke- 6 menghasilkan variance ratio sebesar 0.0002053\n",
      "Fitur independen ke- 7 menghasilkan variance ratio sebesar 0.0001187\n"
     ]
    }
   ],
   "source": [
    "for i, j in enumerate(pca.explained_variance_ratio_):\n",
    "    print(\"Fitur independen ke-\", (i+1), \"menghasilkan variance ratio sebesar\", round(j,7))"
   ]
  },
  {
   "cell_type": "code",
   "execution_count": 7,
   "id": "792a11aa",
   "metadata": {},
   "outputs": [
    {
     "name": "stdout",
     "output_type": "stream",
     "text": [
      "Fitur independen ke- 1 menghasilkan variance ratio sebesar 0.8850815\n",
      "Fitur independen ke- 2 menghasilkan variance ratio sebesar 0.1090902\n"
     ]
    }
   ],
   "source": [
    "cummulative_variance = 0\n",
    "num_pc = 0\n",
    "for i, j in enumerate(pca.explained_variance_ratio_):\n",
    "    if cummulative_variance < 0.9:\n",
    "        num_pc += 1\n",
    "        cummulative_variance += j\n",
    "        print(\"Fitur independen ke-\", (i+1), \"menghasilkan variance ratio sebesar\", round(j,7))"
   ]
  },
  {
   "cell_type": "code",
   "execution_count": null,
   "id": "1e975c52",
   "metadata": {},
   "outputs": [],
   "source": []
  }
 ],
 "metadata": {
  "kernelspec": {
   "display_name": "Python 3 (ipykernel)",
   "language": "python",
   "name": "python3"
  },
  "language_info": {
   "codemirror_mode": {
    "name": "ipython",
    "version": 3
   },
   "file_extension": ".py",
   "mimetype": "text/x-python",
   "name": "python",
   "nbconvert_exporter": "python",
   "pygments_lexer": "ipython3",
   "version": "3.11.5"
  }
 },
 "nbformat": 4,
 "nbformat_minor": 5
}
